{
  "nbformat": 4,
  "nbformat_minor": 0,
  "metadata": {
    "colab": {
      "name": "02_18241010_ShababIntisharRahman",
      "provenance": [],
      "collapsed_sections": []
    },
    "kernelspec": {
      "name": "python3",
      "display_name": "Python 3"
    },
    "language_info": {
      "name": "python"
    }
  },
  "cells": [
    {
      "cell_type": "code",
      "metadata": {
        "id": "PyNXm6vibuxJ"
      },
      "source": [
        "d = \"hello world\"\n",
        "print (d)\n",
        "\n",
        "c = \" this is a test\"\n",
        "print (d+ c)\n"
      ],
      "execution_count": null,
      "outputs": []
    },
    {
      "cell_type": "code",
      "metadata": {
        "colab": {
          "base_uri": "https://localhost:8080/"
        },
        "id": "6NnpjLGvcLu-",
        "outputId": "cfdf07ba-b70d-4872-ca77-60cb005aa812"
      },
      "source": [
        "eg = [\"a\",\"b\"]\n",
        "if (eg[1] == \"b\"):\n",
        "  print(\"this is working\")\n",
        "  eg[1] =2\n",
        "  print (eg[1])\n",
        "eg2 = [\"f\"]\n",
        "print (eg[1])\n",
        "print (eg2[0])\n"
      ],
      "execution_count": null,
      "outputs": [
        {
          "output_type": "stream",
          "name": "stdout",
          "text": [
            "this is working\n",
            "2\n",
            "2\n",
            "f\n"
          ]
        }
      ]
    },
    {
      "cell_type": "code",
      "metadata": {
        "colab": {
          "base_uri": "https://localhost:8080/"
        },
        "id": "h4Ecuja7e-Pf",
        "outputId": "3b4e2683-f1e9-4b79-fe11-e2ac5869f9de"
      },
      "source": [
        "x = []\n",
        "with open('input.txt') as f:\n",
        "  lines= f.readlines()\n",
        "\n",
        "for line in lines:\n",
        "  x.append(line.split())\n",
        "\n",
        "print (x)\n",
        "print(x[0][0])\n",
        "#print(x[1][0])\n",
        "#print(x[2][0])\n",
        "#print(x[3][0])\n",
        "\n",
        "#if ((x[0][0]) == \"N\") : \n",
        "# x[0][0] = 0 \n",
        "\n",
        "#print(x[0][0])\n",
        "\n",
        "for i in range(len(x)):\n",
        "        for j in range(len(x[i])):\n",
        "#               print(x[i][j])\n",
        "                if ((x[i][j]) == \"N\") :\n",
        "                   x[i][j] = 0\n",
        "                elif ((x[i][j]) == \"Y\") :\n",
        "                   x[i][j] = 1\n",
        "print (x)\n",
        "\n",
        "def infected(x) : \n",
        "     max_inf = 0 \n",
        "     for row in range (len(x)):\n",
        "       for col in range(len(x[0])):\n",
        "         if x[row][col] == 1 :\n",
        "          infec = count_inf(x, row, col)\n",
        "          max_inf = max(max_inf, infec)\n",
        "     return max_inf\n",
        "       \n",
        "\n",
        "def count_inf(x, row, col):\n",
        "  if any([row < 0, col < 0, row >= len(x), col >=len(x[0])]):\n",
        "    return 0\n",
        "  \n",
        "  if x[row][col] == 0:\n",
        "    return 0\n",
        "  \n",
        "  count = 1 \n",
        "  x[row][col] = 0\n",
        "\n",
        "  for r in range(row-1,row+2):\n",
        "    for c in range(col-1,col+2):\n",
        "      if any([r != row , c != col]):\n",
        "        count += count_inf(x, r, c)\n",
        "  return count\n",
        "\n",
        "infected(x)\n",
        "\n",
        "\n",
        "\n",
        "  \n",
        "\n",
        "\n",
        "\n",
        "\n",
        "\n",
        "\n",
        " \n",
        "\n",
        "\n",
        "\n",
        "\n",
        "\n",
        "\n",
        "\n"
      ],
      "execution_count": 60,
      "outputs": [
        {
          "output_type": "stream",
          "name": "stdout",
          "text": [
            "[['N', 'N', 'N', 'Y', 'Y', 'N', 'N'], ['N', 'Y', 'N', 'N', 'Y', 'Y', 'N'], ['Y', 'Y', 'N', 'Y', 'N', 'N', 'Y'], ['N', 'N', 'N', 'N', 'N', 'Y', 'N'], ['Y', 'Y', 'N', 'N', 'N', 'N', 'N'], ['N', 'N', 'N', 'Y', 'N', 'N', 'N']]\n",
            "N\n",
            "[[0, 0, 0, 1, 1, 0, 0], [0, 1, 0, 0, 1, 1, 0], [1, 1, 0, 1, 0, 0, 1], [0, 0, 0, 0, 0, 1, 0], [1, 1, 0, 0, 0, 0, 0], [0, 0, 0, 1, 0, 0, 0]]\n"
          ]
        },
        {
          "output_type": "execute_result",
          "data": {
            "text/plain": [
              "7"
            ]
          },
          "metadata": {},
          "execution_count": 60
        }
      ]
    },
    {
      "cell_type": "code",
      "metadata": {
        "id": "NQJS9PighZSn",
        "colab": {
          "base_uri": "https://localhost:8080/",
          "height": 578
        },
        "outputId": "b887ed38-0e2d-4a15-a95a-3774360647ad"
      },
      "source": [
        "\n",
        "#this code is not functioning as the second value in the input field is the column length \n",
        "#when checking for values , the list is going out of bounds. \n",
        "#I have tried to address this issue by checking for the value in the specific cell before the recusion occurs but failed\n",
        "\n",
        "\n",
        "\n",
        "\n",
        "x = []\n",
        "with open('input2.txt') as f:\n",
        "  lines= f.readlines()\n",
        "\n",
        "for line in lines:\n",
        "  x.append(line.split())\n",
        "\n",
        "#print (x)\n",
        "\n",
        "for i in range(len(x)):\n",
        "        for j in range(len(x[i])):\n",
        "#               print(x[i][j])\n",
        "                if ((x[i][j]) == \"A\") :\n",
        "                   x[i][j] = 0\n",
        "                elif ((x[i][j]) == \"T\") :\n",
        "                   x[i][j] = 1\n",
        "                elif ((x[i][j]) == \"H\") :\n",
        "                   x[i][j] = 2\n",
        "                elif ((x[i][j]) == \"5\") :\n",
        "                   x[i][j] = 5   \n",
        "                elif ((x[i][j]) == \"4\") :\n",
        "                   x[i][j] = 4\n",
        "print (x)\n",
        "#print (len(x)-1)\n",
        "#print(x[2][0])\n",
        " \n",
        "\n",
        "def finder(x) : \n",
        "  timer =0\n",
        "  for row in range(2,len(x)-1):\n",
        "    for col in range(len(x[2])-1):\n",
        "      if x[row][col] == 0 :\n",
        "#        print(col)\n",
        "        timer = attack(x, row, col)\n",
        "  return timer\n",
        "\n",
        "def attack(x, row, col) :\n",
        "  print(x[row][col])\n",
        "  if any([row < 1, col < 0, row > len(x)-1, col >len(x[2])-1]):\n",
        "    exit()\n",
        "# the above ^ value check is not working     \n",
        "  if x[row][col] != 0:\n",
        "    exit(1)\n",
        "# the above ^ value check is not working \n",
        "  \n",
        "\n",
        "  time = 0\n",
        "  for r in range(row-1, col+2):\n",
        "     for c in range(col-1,col+2):\n",
        "       print(r)\n",
        "       print(c)\n",
        "       print(x[r][c])\n",
        "#we can see it is iterating properly, but getting stuck my lack of input at [0][1]\n",
        "#due to above if conditions not functioning, as column value is being allowed to be -1\n",
        "       if any([r != row , c != col]):\n",
        "         print(x[r][c])\n",
        "         if (x[r][c] == 2):\n",
        "          x[r][c] = 0\n",
        "          time = time +1\n",
        "          attack(x, r, c)\n",
        "  return time\n",
        "\n",
        "finder(x)\n",
        "\n",
        "\n",
        "\n"
      ],
      "execution_count": 88,
      "outputs": [
        {
          "output_type": "stream",
          "name": "stdout",
          "text": [
            "[[5], [4], [0, 2, 1, 2], [2, 2, 1, 0], [1, 1, 2, 2], [0, 2, 1, 2], [2, 1, 2, 2]]\n",
            "0\n",
            "1\n",
            "-1\n",
            "4\n",
            "4\n",
            "1\n",
            "0\n",
            "4\n",
            "4\n",
            "1\n",
            "1\n"
          ]
        },
        {
          "output_type": "error",
          "ename": "IndexError",
          "evalue": "ignored",
          "traceback": [
            "\u001b[0;31m---------------------------------------------------------------------------\u001b[0m",
            "\u001b[0;31mIndexError\u001b[0m                                Traceback (most recent call last)",
            "\u001b[0;32m<ipython-input-88-fb7745ea59a5>\u001b[0m in \u001b[0;36m<module>\u001b[0;34m()\u001b[0m\n\u001b[1;32m     69\u001b[0m   \u001b[0;32mreturn\u001b[0m \u001b[0mtime\u001b[0m\u001b[0;34m\u001b[0m\u001b[0;34m\u001b[0m\u001b[0m\n\u001b[1;32m     70\u001b[0m \u001b[0;34m\u001b[0m\u001b[0m\n\u001b[0;32m---> 71\u001b[0;31m \u001b[0mfinder\u001b[0m\u001b[0;34m(\u001b[0m\u001b[0mx\u001b[0m\u001b[0;34m)\u001b[0m\u001b[0;34m\u001b[0m\u001b[0;34m\u001b[0m\u001b[0m\n\u001b[0m\u001b[1;32m     72\u001b[0m \u001b[0;34m\u001b[0m\u001b[0m\n\u001b[1;32m     73\u001b[0m \u001b[0;34m\u001b[0m\u001b[0m\n",
            "\u001b[0;32m<ipython-input-88-fb7745ea59a5>\u001b[0m in \u001b[0;36mfinder\u001b[0;34m(x)\u001b[0m\n\u001b[1;32m     40\u001b[0m       \u001b[0;32mif\u001b[0m \u001b[0mx\u001b[0m\u001b[0;34m[\u001b[0m\u001b[0mrow\u001b[0m\u001b[0;34m]\u001b[0m\u001b[0;34m[\u001b[0m\u001b[0mcol\u001b[0m\u001b[0;34m]\u001b[0m \u001b[0;34m==\u001b[0m \u001b[0;36m0\u001b[0m \u001b[0;34m:\u001b[0m\u001b[0;34m\u001b[0m\u001b[0;34m\u001b[0m\u001b[0m\n\u001b[1;32m     41\u001b[0m \u001b[0;31m#        print(col)\u001b[0m\u001b[0;34m\u001b[0m\u001b[0;34m\u001b[0m\u001b[0;34m\u001b[0m\u001b[0m\n\u001b[0;32m---> 42\u001b[0;31m         \u001b[0mtimer\u001b[0m \u001b[0;34m=\u001b[0m \u001b[0mattack\u001b[0m\u001b[0;34m(\u001b[0m\u001b[0mx\u001b[0m\u001b[0;34m,\u001b[0m \u001b[0mrow\u001b[0m\u001b[0;34m,\u001b[0m \u001b[0mcol\u001b[0m\u001b[0;34m)\u001b[0m\u001b[0;34m\u001b[0m\u001b[0;34m\u001b[0m\u001b[0m\n\u001b[0m\u001b[1;32m     43\u001b[0m   \u001b[0;32mreturn\u001b[0m \u001b[0mtimer\u001b[0m\u001b[0;34m\u001b[0m\u001b[0;34m\u001b[0m\u001b[0m\n\u001b[1;32m     44\u001b[0m \u001b[0;34m\u001b[0m\u001b[0m\n",
            "\u001b[0;32m<ipython-input-88-fb7745ea59a5>\u001b[0m in \u001b[0;36mattack\u001b[0;34m(x, row, col)\u001b[0m\n\u001b[1;32m     58\u001b[0m        \u001b[0mprint\u001b[0m\u001b[0;34m(\u001b[0m\u001b[0mr\u001b[0m\u001b[0;34m)\u001b[0m\u001b[0;34m\u001b[0m\u001b[0;34m\u001b[0m\u001b[0m\n\u001b[1;32m     59\u001b[0m        \u001b[0mprint\u001b[0m\u001b[0;34m(\u001b[0m\u001b[0mc\u001b[0m\u001b[0;34m)\u001b[0m\u001b[0;34m\u001b[0m\u001b[0;34m\u001b[0m\u001b[0m\n\u001b[0;32m---> 60\u001b[0;31m        \u001b[0mprint\u001b[0m\u001b[0;34m(\u001b[0m\u001b[0mx\u001b[0m\u001b[0;34m[\u001b[0m\u001b[0mr\u001b[0m\u001b[0;34m]\u001b[0m\u001b[0;34m[\u001b[0m\u001b[0mc\u001b[0m\u001b[0;34m]\u001b[0m\u001b[0;34m)\u001b[0m\u001b[0;34m\u001b[0m\u001b[0;34m\u001b[0m\u001b[0m\n\u001b[0m\u001b[1;32m     61\u001b[0m \u001b[0;31m#we can see it is iterating properly, but getting stuck my lack of input at [0][1]\u001b[0m\u001b[0;34m\u001b[0m\u001b[0;34m\u001b[0m\u001b[0;34m\u001b[0m\u001b[0m\n\u001b[1;32m     62\u001b[0m \u001b[0;31m#due to above if conditions not functioning\u001b[0m\u001b[0;34m\u001b[0m\u001b[0;34m\u001b[0m\u001b[0;34m\u001b[0m\u001b[0m\n",
            "\u001b[0;31mIndexError\u001b[0m: list index out of range"
          ]
        }
      ]
    },
    {
      "cell_type": "code",
      "metadata": {
        "id": "it-GdLQ7zQEe"
      },
      "source": [
        ""
      ],
      "execution_count": null,
      "outputs": []
    }
  ]
}